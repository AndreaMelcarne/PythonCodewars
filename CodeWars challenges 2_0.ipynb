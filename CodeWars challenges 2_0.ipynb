{
 "cells": [
  {
   "cell_type": "code",
   "execution_count": null,
   "id": "8c8eff2d-63f0-413c-a493-4ca5be2f75f5",
   "metadata": {},
   "outputs": [],
   "source": []
  },
  {
   "cell_type": "markdown",
   "id": "6ac33e66-20c6-467f-a528-f0936fc33f20",
   "metadata": {
    "tags": []
   },
   "source": [
    "## Range Extraction ##"
   ]
  },
  {
   "cell_type": "markdown",
   "id": "200ecbb6-2b4c-4edd-b17a-2a997e6b6e25",
   "metadata": {},
   "source": [
    "A format for expressing an ordered list of integers is to use a comma separated list of either\n",
    "\n",
    "individual integers\n",
    "or a range of integers denoted by the starting integer separated from the end integer in the range by a dash, '-'. The range includes all integers in the interval including both endpoints. It is not considered a range unless it spans at least 3 numbers. For example \"12,13,15-17\"\n",
    "Complete the solution so that it takes a list of integers in increasing order and returns a correctly formatted string in the range format."
   ]
  },
  {
   "cell_type": "code",
   "execution_count": 1,
   "id": "bc40e2ce-5256-4f45-9676-a18bac4111d9",
   "metadata": {},
   "outputs": [],
   "source": [
    "def solution(args):\n",
    "    \"\"\"for this solution I created a nested function (mid_) that creates a list from the input one, and every number in the middle of the range we want to see, is se to a dash \"-\"\n",
    "        Then, a for loop runs over this new list and if there are more then 1 dashes between actuan numbers, it printes just one dash \"-\". \"\"\"\n",
    "    def mid_(args):\n",
    "        output=[]\n",
    "        for n in args:\n",
    "            if n-1 not in args:\n",
    "                if n+1 and n+2 in args:\n",
    "                    output.append(n)\n",
    "                else:\n",
    "                    output.append(n)\n",
    "            else:\n",
    "                if n+1 in args:\n",
    "                    output.append(\"-\")\n",
    "                else:\n",
    "                    output.append(n)\n",
    "        return output\n",
    "    \n",
    "    \n",
    "    args=mid_(args)\n",
    "    \n",
    "    output=\"\"\n",
    "    for index,item in enumerate(args):\n",
    "        \n",
    "        if item==args[-1]:\n",
    "            output=output+f\"{item}\"\n",
    "            break\n",
    "            \n",
    "            \n",
    "        if item == \"-\":\n",
    "            if args[index+1] == \"-\":\n",
    "                output=output\n",
    "            else:\n",
    "                output=output+f\"{item}\"\n",
    "            \n",
    "        else:\n",
    "            if args[index+1]==\"-\":\n",
    "                output=output+f\"{item}\"\n",
    "            else:\n",
    "                output=output+f\"{item},\"\n",
    "    return output"
   ]
  }
 ],
 "metadata": {
  "kernelspec": {
   "display_name": "Python 3 (ipykernel)",
   "language": "python",
   "name": "python3"
  },
  "language_info": {
   "codemirror_mode": {
    "name": "ipython",
    "version": 3
   },
   "file_extension": ".py",
   "mimetype": "text/x-python",
   "name": "python",
   "nbconvert_exporter": "python",
   "pygments_lexer": "ipython3",
   "version": "3.9.7"
  }
 },
 "nbformat": 4,
 "nbformat_minor": 5
}
