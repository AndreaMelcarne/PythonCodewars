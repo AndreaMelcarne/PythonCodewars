{
 "cells": [
  {
   "cell_type": "markdown",
   "id": "8ae49ff5-f8b0-4d02-8fc4-248684a83a31",
   "metadata": {
    "jp-MarkdownHeadingCollapsed": true,
    "tags": []
   },
   "source": [
    "## Cordewars Vowel Count ##"
   ]
  },
  {
   "cell_type": "markdown",
   "id": "253b0d0c-d63d-4694-8ac5-ff46760bf127",
   "metadata": {},
   "source": [
    "Return the number (count) of vowels in the given string.\n",
    "\n",
    "We will consider a, e, i, o, u as vowels for this Kata (but not y).\n",
    "\n",
    "The input string will only consist of lower case letters and/or spaces."
   ]
  },
  {
   "cell_type": "code",
   "execution_count": 1,
   "id": "d541b5fd-3f40-408d-a505-422820118988",
   "metadata": {},
   "outputs": [],
   "source": [
    "def get_count(sentence):\n",
    "    lista=sentence.split()\n",
    "    char=[]\n",
    "    vowels=[\"a\",\"e\",\"i\",\"o\",\"u\"]\n",
    "    count=0\n",
    "    for word in lista:\n",
    "        x=list(word)\n",
    "        for ch in x:\n",
    "            char.append(ch)\n",
    "    for token in char:\n",
    "        if token in vowels:\n",
    "            count+=1\n",
    "    return count"
   ]
  },
  {
   "cell_type": "markdown",
   "id": "4a0388dc-452f-4b28-b513-c2d94f81fe25",
   "metadata": {
    "jp-MarkdownHeadingCollapsed": true,
    "tags": []
   },
   "source": [
    "## Disemvowel Trolls ##"
   ]
  },
  {
   "cell_type": "markdown",
   "id": "d78952f9-e4b9-44ea-922a-2ac000fc366d",
   "metadata": {},
   "source": [
    "Trolls are attacking your comment section!\n",
    "\n",
    "A common way to deal with this situation is to remove all of the vowels from the trolls' comments, neutralizing the threat.\n",
    "\n",
    "Your task is to write a function that takes a string and return a new string with all vowels removed.\n",
    "\n",
    "For example, the string \"This website is for losers LOL!\" would become \"Ths wbst s fr lsrs LL!\".\n",
    "\n",
    "Note: for this kata y isn't considered a vowel."
   ]
  },
  {
   "cell_type": "code",
   "execution_count": 2,
   "id": "2ed42be6-c889-4851-8157-de5513539de6",
   "metadata": {},
   "outputs": [],
   "source": [
    "def disemvowel(string_):\n",
    "    vowel_dic={\"a\":\"\",\n",
    "          \"e\":\"\",\n",
    "          \"i\":\"\",\n",
    "          \"o\":\"\",\n",
    "          \"u\":\"\",\n",
    "          \"A\":\"\",\n",
    "          \"E\":\"\",\n",
    "          \"I\":\"\",\n",
    "          \"O\":\"\",\n",
    "          \"U\":\"\"}\n",
    "    unicode_trans=string_.maketrans(vowel_dic)\n",
    "    return string_.translate(unicode_trans)"
   ]
  },
  {
   "cell_type": "markdown",
   "id": "22a7c56c-47e9-41da-a315-bf1743fea6db",
   "metadata": {
    "jp-MarkdownHeadingCollapsed": true,
    "tags": []
   },
   "source": [
    "## Square every Digit ##"
   ]
  },
  {
   "cell_type": "markdown",
   "id": "22e72b35-366c-4094-8145-ef86b2f6fd1f",
   "metadata": {},
   "source": [
    "Welcome. In this kata, you are asked to square every digit of a number and concatenate them.\n",
    "\n",
    "For example, if we run 9119 through the function, 811181 will come out, because 92 is 81 and 12 is 1.\n",
    "\n",
    "Note: The function accepts an integer and returns an integer"
   ]
  },
  {
   "cell_type": "code",
   "execution_count": 3,
   "id": "14de5393-185e-4ecb-b6a0-2650fbbdbbbe",
   "metadata": {},
   "outputs": [],
   "source": [
    "def square_digits(num):\n",
    "    new_lstd_num=[]\n",
    "    strd_num=\"\"\n",
    "    lstd_num=list(str(num))\n",
    "    for dig in lstd_num:\n",
    "        new_num=(int(dig))**2\n",
    "        new_lstd_num.append(new_num)\n",
    "    for token in new_lstd_num:\n",
    "        strd_num= strd_num + f\"{token}\"\n",
    "    return int(strd_num)"
   ]
  },
  {
   "cell_type": "markdown",
   "id": "c5bdc0ac-6773-461c-af65-2a1f74ac6243",
   "metadata": {
    "jp-MarkdownHeadingCollapsed": true,
    "tags": []
   },
   "source": [
    "## Highest and Lowest ##"
   ]
  },
  {
   "cell_type": "markdown",
   "id": "a7626053-1a7b-4a30-a621-4a30fdc51b25",
   "metadata": {},
   "source": [
    "In this little assignment you are given a string of space separated numbers, and have to return the highest and lowest number."
   ]
  },
  {
   "cell_type": "code",
   "execution_count": 4,
   "id": "08186e82-f3b6-484c-9915-0b54dc44c63a",
   "metadata": {},
   "outputs": [],
   "source": [
    "def max_and_min(numbers):\n",
    "    max_and_min_list=[]\n",
    "    int_list=[]\n",
    "    for token in numbers.split(\" \"):\n",
    "        int_list.append(int(token))\n",
    "    max_and_min_list.append(f\"{max(int_list)}\")\n",
    "    max_and_min_list.append(f\"{min(int_list)}\")\n",
    "    sorted(max_and_min_list, reverse=True)\n",
    "    return \" \".join(max_and_min_list)\n",
    "    "
   ]
  },
  {
   "cell_type": "markdown",
   "id": "420d540c-3ced-422a-a40c-4b58bc74bb57",
   "metadata": {
    "jp-MarkdownHeadingCollapsed": true,
    "tags": []
   },
   "source": [
    "## Get the Middle ##"
   ]
  },
  {
   "cell_type": "markdown",
   "id": "dafb8678-5a67-4e83-acd1-757e70d05122",
   "metadata": {},
   "source": [
    "You are going to be given a word. Your job is to return the middle character of the word. If the word's length is odd, return the middle character. If the word's length is even, return the middle 2 characters."
   ]
  },
  {
   "cell_type": "code",
   "execution_count": 5,
   "id": "f704e03e-4a53-4dfd-bf16-19075d28f5df",
   "metadata": {},
   "outputs": [],
   "source": [
    "def get_middle(s):\n",
    "    if len(s)%2 ==0:\n",
    "        mid_ch=f\"{s[int(len(s)/2-1)]}{s[int(len(s)/2)]}\"\n",
    "    else:\n",
    "        mid_ch=f\"{s[int(len(s)/2)]}\"\n",
    "    return mid_ch"
   ]
  },
  {
   "cell_type": "markdown",
   "id": "7d99d27f-fa6c-4694-9fe8-2b10adf60839",
   "metadata": {
    "jp-MarkdownHeadingCollapsed": true,
    "tags": []
   },
   "source": [
    "## Your are a square! ##\n"
   ]
  },
  {
   "cell_type": "markdown",
   "id": "795450ff-c2be-475d-9d98-039fc731aeb6",
   "metadata": {},
   "source": [
    "Given an integral number, determine if it's a square number"
   ]
  },
  {
   "cell_type": "code",
   "execution_count": 6,
   "id": "1f08da91-a103-405f-9670-642606f9a0e5",
   "metadata": {},
   "outputs": [],
   "source": [
    "#with math library it would have been easier and more precise\n",
    "def is_square(n):  \n",
    "    if n<0:\n",
    "        status= False\n",
    "    else:\n",
    "        x=n**0.5\n",
    "        y=x-round(x)\n",
    "        if y==0:\n",
    "            status= True\n",
    "        else:\n",
    "            status= False\n",
    "    return status"
   ]
  },
  {
   "cell_type": "markdown",
   "id": "6eedc503-8611-4ebd-b9ae-0aa757922b22",
   "metadata": {
    "jp-MarkdownHeadingCollapsed": true,
    "tags": []
   },
   "source": [
    "## 6kyu- Multiples of 3 or 5 ##"
   ]
  },
  {
   "cell_type": "markdown",
   "id": "0fbd052a-e5e7-4a28-b511-529a8e9ccfcc",
   "metadata": {},
   "source": [
    "If we list all the natural numbers below 10 that are multiples of 3 or 5, we get 3, 5, 6 and 9. The sum of these multiples is 23.\n",
    "\n",
    "Finish the solution so that it returns the sum of all the multiples of 3 or 5 below the number passed in. Additionally, if the number is negative, return 0 (for languages that do have them)"
   ]
  },
  {
   "cell_type": "code",
   "execution_count": 7,
   "id": "7a5886d8-5c54-4231-937d-f4adab86cf87",
   "metadata": {},
   "outputs": [],
   "source": [
    "def solution(number):\n",
    "    list_=[]\n",
    "    for i in range(number):\n",
    "        list_.append(i)\n",
    "    sum=0\n",
    "    if number<0:\n",
    "        sum=0\n",
    "    else:\n",
    "        for num in list_:\n",
    "            if num%3==0 or num%5==0:\n",
    "                sum=sum+num\n",
    "    return sum\n",
    "        "
   ]
  },
  {
   "cell_type": "markdown",
   "id": "4c5b805f-a711-4320-ac9f-b5ed32614b79",
   "metadata": {
    "jp-MarkdownHeadingCollapsed": true,
    "tags": []
   },
   "source": [
    "## Create Phone Number ##"
   ]
  },
  {
   "cell_type": "markdown",
   "id": "9227f48f-fa61-451d-9312-21a91c0ee3b7",
   "metadata": {},
   "source": [
    "Write a function that accepts an array of 10 integers (between 0 and 9), that returns a string of those numbers in the form of a phone number."
   ]
  },
  {
   "cell_type": "code",
   "execution_count": 8,
   "id": "fbce4411-f2de-45ce-bbd6-79f2e3d3b325",
   "metadata": {},
   "outputs": [],
   "source": [
    "def create_phone_number(n):\n",
    "    first=\"\"\n",
    "    second=\"\"\n",
    "    third=\"\"\n",
    "    x=3\n",
    "    y=3\n",
    "    z=4\n",
    "    for i in range(x):\n",
    "        first=first+f\"{n[i]}\"\n",
    "    for i in range(y):\n",
    "        second=second+f\"{n[i+x]}\"\n",
    "    for i in range(z):\n",
    "        third=third+f\"{n[i+x+y]}\"\n",
    "    phone_number=f\"({first}) {second}-{third}\"\n",
    "    return phone_number"
   ]
  },
  {
   "cell_type": "markdown",
   "id": "4fc292ab-213c-43be-b8d1-c9b871b85603",
   "metadata": {
    "jp-MarkdownHeadingCollapsed": true,
    "tags": []
   },
   "source": [
    "## Who likes it? ##"
   ]
  },
  {
   "cell_type": "markdown",
   "id": "4c02c370-5193-4796-9327-f7eba333c053",
   "metadata": {},
   "source": [
    "Implement the function which takes an array containing the names of people that like an item"
   ]
  },
  {
   "cell_type": "code",
   "execution_count": 9,
   "id": "ca4dccf6-5cce-42ca-b2b9-44c232bececa",
   "metadata": {},
   "outputs": [],
   "source": [
    "def likes(names):\n",
    "    if len(names)==0:\n",
    "        output=\"no one likes this\"\n",
    "    if len(names)==1:\n",
    "        output=f\"{names[0]} likes this\"\n",
    "    if len(names)==2:\n",
    "        output=f\"{names[0]} and {names[1]} like this\"\n",
    "    if len(names)==3:\n",
    "        output=f\"{names[0]}, {names[1]} and {names[2]} like this\"\n",
    "    if len(names)>3:\n",
    "        output=f\"{names[0]}, {names[1]} and {len(names)-2} others like this\"\n",
    "    return output"
   ]
  },
  {
   "cell_type": "markdown",
   "id": "c54d6cce-f535-4ccc-8aee-818ee4c58884",
   "metadata": {
    "jp-MarkdownHeadingCollapsed": true,
    "tags": []
   },
   "source": [
    "## 5 KYU -  Simple Pig Latin ##"
   ]
  },
  {
   "cell_type": "markdown",
   "id": "0498a72a-c005-4b1e-8719-6116a0531227",
   "metadata": {},
   "source": [
    "Move the first letter of each word to the end of it, then add \"ay\" to the end of the word. Leave punctuation marks untouched."
   ]
  },
  {
   "cell_type": "code",
   "execution_count": 12,
   "id": "c920448d-2e53-4da3-8af2-d36b7b9a220c",
   "metadata": {},
   "outputs": [],
   "source": [
    "def pig_it(text):\n",
    "    ##storing the last_char\n",
    "    last_char=list(text)[-1]\n",
    "    \n",
    "    if last_char == \"?\" or last_char ==\"!\":\n",
    "\n",
    "        #removing special chars from string\n",
    "        trans_dic={\"!\":\"\",\n",
    "                  \"?\":\"\"}\n",
    "        unicode_dic=text.maketrans(trans_dic)\n",
    "        text=text.translate(unicode_dic)\n",
    "        text=text.rstrip()\n",
    "\n",
    "        #initializing for pig lating translation\n",
    "        pig_latin=\"\"\n",
    "        lstd_2=[]\n",
    "        lstd=text.split(\" \")\n",
    "\n",
    "        #transalting in piglatin\n",
    "        for parola in lstd:\n",
    "            lstd_word=list(parola)        #listing each word\n",
    "            x=lstd_word[0]                #first letter of each word\n",
    "            lstd_word.pop(0)              #removing first char for each word\n",
    "            lstd_word.append(x)           #appending last char at each word\n",
    "            lstd_word.append(\"ay\")        #appending \"ay\" \n",
    "            strd_word=\"\".join(lstd_word)  #moving from a list of char to a word\n",
    "            lstd_2.append(strd_word)      #creating a new list of translated words\n",
    "    \n",
    "        # adding special char\n",
    "        lstd_2.append(last_char)\n",
    "    else:\n",
    "        #initializing for pig lating translation\n",
    "        pig_latin=\"\"\n",
    "        lstd_2=[]\n",
    "        lstd=text.split(\" \")\n",
    "\n",
    "        #transalting in piglatin\n",
    "        for parola in lstd:\n",
    "            lstd_word=list(parola) \n",
    "            x=lstd_word[0] \n",
    "            lstd_word.pop(0)\n",
    "            lstd_word.append(x)\n",
    "            lstd_word.append(\"ay\")\n",
    "            strd_word=\"\".join(lstd_word)\n",
    "            lstd_2.append(strd_word)\n",
    "        \n",
    "    return \" \".join(lstd_2)"
   ]
  },
  {
   "cell_type": "markdown",
   "id": "e6f9679c-6778-4d84-b7c8-4500e482bac6",
   "metadata": {
    "jp-MarkdownHeadingCollapsed": true,
    "tags": []
   },
   "source": [
    "## Moving Zeros to the End ##"
   ]
  },
  {
   "cell_type": "markdown",
   "id": "e18ffa97-cb2b-40a8-bfb5-6dab06c9da86",
   "metadata": {},
   "source": [
    "Write an algorithm that takes an array and moves all of the zeros to the end, preserving the order of the other elements."
   ]
  },
  {
   "cell_type": "code",
   "execution_count": 15,
   "id": "3cfb5c49-6868-4a34-b1a2-acea63b31689",
   "metadata": {},
   "outputs": [],
   "source": [
    "def move_zeros(array):\n",
    "    for item in array:\n",
    "        if item == 0:\n",
    "            index=array.index(item)\n",
    "            array.pop(index)\n",
    "            array.append(item)\n",
    "    return array"
   ]
  },
  {
   "cell_type": "markdown",
   "id": "442222c8-1fa7-41ae-858b-9112ef97ab71",
   "metadata": {
    "jp-MarkdownHeadingCollapsed": true,
    "tags": []
   },
   "source": [
    "## Human Readble Time ##"
   ]
  },
  {
   "cell_type": "markdown",
   "id": "5c3f053a-ebea-4222-9f41-833f4be68aab",
   "metadata": {},
   "source": [
    "Write a function, which takes a non-negative integer (seconds) as input and returns the time in a human-readable format (HH:MM:SS)"
   ]
  },
  {
   "cell_type": "code",
   "execution_count": 16,
   "id": "c6a90488-d847-4351-9c25-160f335ad1b8",
   "metadata": {},
   "outputs": [],
   "source": [
    "def make_readable(seconds):   \n",
    "    hrs=int(seconds/3600)\n",
    "    mins=int((seconds - (hrs*3600))/60)\n",
    "    sec=int(seconds - (mins*60 + hrs*3600))\n",
    "\n",
    "    #creating the output with 2 digits per typoe of time\n",
    "    time=[hrs,mins,sec]\n",
    "    readable_time=[]\n",
    "    for item in time:\n",
    "        if item < 10:\n",
    "            item=f\"{0}{item}\"\n",
    "            readable_time.append(item)\n",
    "        else:\n",
    "            item=f\"{item}\"\n",
    "            readable_time.append(item)\n",
    "    return \":\".join(readable_time)"
   ]
  },
  {
   "cell_type": "markdown",
   "id": "285b1f6f-d0b9-4fbc-9eb0-3014b9355fdc",
   "metadata": {
    "jp-MarkdownHeadingCollapsed": true,
    "tags": []
   },
   "source": [
    "## Valid parentheses ##"
   ]
  },
  {
   "cell_type": "markdown",
   "id": "7f94458a-4c8d-4eb7-83df-7e094dd72ba1",
   "metadata": {},
   "source": [
    "Write a function that takes a string of parentheses, and determines if the order of the parentheses is valid. The function should return true if the string is valid, and false if it's invalid."
   ]
  },
  {
   "cell_type": "code",
   "execution_count": 17,
   "id": "368190e0-0e85-4acc-b258-2be2bd660d8f",
   "metadata": {},
   "outputs": [],
   "source": [
    "def valid_parentheses(string):\n",
    "    if string ==\"\":\n",
    "        status=True\n",
    "    \n",
    "    else:\n",
    "    \n",
    "        indices_openers=[] #lista con gli indici relativi ad ogni parentesi di apertura\n",
    "        indices_closers=[] #lista con gli indici relativi ad ogni parentesi di chiusura\n",
    "\n",
    "\n",
    " #popolazione delle liste indices_openers e indices_closers\n",
    "        for i, c in enumerate(string):\n",
    "            if c==\"(\":\n",
    "                indices_openers.append(i)\n",
    "            elif c==\")\":\n",
    "                indices_closers.append(i)\n",
    "        \n",
    "        \n",
    "#definizione dello status del check. \n",
    "        if len(indices_closers) == len(indices_openers): \n",
    "    \n",
    "            \"\"\"First of all it must be checked if there are the same number of opened and closed parentheses (no matter the position).\n",
    "            If true, then go on, else it's not needed to check over and the status is set to false\"\"\"\n",
    "    \n",
    "            for item in indices_closers: #i'm looking at the indices of closing parentheses, because every closing one needs an opening one on a previous index\n",
    "                index=indices_closers.index(item)  #index in the indeces_closers \n",
    "                correspondent_parenthesis_site=indices_openers[index] #is the correspondig opening parenthesis for each closing one\n",
    "                if correspondent_parenthesis_site>item: #if the opening one is next the closing one, the status is set to false\n",
    "                    status= False\n",
    "                    break #i have to put break to not set the status to true in the next for loop (if it would happend)\n",
    "                else:\n",
    "                    status= True\n",
    "        else:\n",
    "            status= False\n",
    "    return status"
   ]
  },
  {
   "cell_type": "markdown",
   "id": "044c9adb-8ee9-47de-9bd6-29b4e9322486",
   "metadata": {
    "jp-MarkdownHeadingCollapsed": true,
    "tags": []
   },
   "source": [
    "## 4KYU - Snail Map ##"
   ]
  },
  {
   "cell_type": "markdown",
   "id": "a586059a-9a4c-4939-bbc8-9d6090371608",
   "metadata": {},
   "source": [
    "Given an n x n array, return the array elements arranged from outermost elements to the middle element, traveling clockwise"
   ]
  },
  {
   "cell_type": "code",
   "execution_count": 1,
   "id": "70142925-5cf3-4f75-a743-1cc0a7f0ee6b",
   "metadata": {},
   "outputs": [],
   "source": [
    "def snail(matrix):\n",
    "    res = [] #is the snail map\n",
    "    \n",
    "    if len(matrix) == 0: #if the array has no point, the snail map is empty\n",
    "        return res\n",
    "    \n",
    "    \"\"\"Initializing variables for the algorithm\"\"\"\n",
    "    \n",
    "    row_begin = 0                 #starting point for the row\n",
    "    row_end = len(matrix) - 1     #ending point for the row\n",
    "    col_begin = 0                 #starting point for the column\n",
    "    col_end = len(matrix[0]) - 1  #ending point for the column\n",
    "\n",
    "    while row_begin <= row_end and col_begin <= col_end:     #means, while the starting point for both columns and rows do not exceeed the end points\n",
    "        for i in range(col_begin, col_end+1):                \n",
    "            res.append(matrix[row_begin][i])                 #appends to the map, all the element of the (row beginning)'th row\n",
    "        row_begin += 1                                       #once appended all the numbers, passes to the next row\n",
    "\n",
    "        for i in range(row_begin, row_end+1):                #after adding the previous row, appends all the last column elements to the map\n",
    "            res.append(matrix[i][col_end])\n",
    "        col_end -= 1                                         #decreases the col_number. Sto the actual column is the penultimate\n",
    "                            \n",
    "        for i in range(col_end, col_begin-1, -1):            #after those for-loops, if row_begin is still before the row_end, appends in reversed way to the map\n",
    "            res.append(matrix[row_end][i])                   #appends from the last_nonutilized_row\n",
    "        row_end -= 1                                         #decreases row number to move to the upsides's one\n",
    "\n",
    "                          \n",
    "        for i in range(row_end, row_begin-1, -1):            #same as the previous block but for columns\n",
    "                res.append(matrix[i][col_begin])\n",
    "        col_begin += 1\n",
    "\n",
    "    return res"
   ]
  },
  {
   "cell_type": "markdown",
   "id": "245d6d23-4aac-4db3-9468-f4159ba69eb1",
   "metadata": {
    "jp-MarkdownHeadingCollapsed": true,
    "tags": []
   },
   "source": [
    "## Human Readable duration format ##"
   ]
  },
  {
   "cell_type": "markdown",
   "id": "612b8c4c-e54b-49ea-9e4f-68078dcb5a22",
   "metadata": {},
   "source": [
    "Your task in order to complete this Kata is to write a function which formats a duration, given as a number of seconds, in a human-friendly way.\n",
    "\n",
    "The function must accept a non-negative integer. If it is zero, it just returns \"now\". Otherwise, the duration is expressed as a combination of years, days, hours, minutes and seconds."
   ]
  },
  {
   "cell_type": "code",
   "execution_count": 2,
   "id": "36da3109-d2a8-4eeb-846d-31610c665dd0",
   "metadata": {},
   "outputs": [],
   "source": [
    "def format_duration(seconds):\n",
    "    if seconds==0:\n",
    "        return \"now\"\n",
    "\n",
    "    else:\n",
    "        words=[\"year\",\"day\",\"hour\",\"minute\",\"second\"]          #will be used in the return, adding \"s\" if plural\n",
    "        \n",
    "        #let's create tuples that evaluates minutes,hours,days and years from given seconds\n",
    "        m,s=divmod(seconds,60)\n",
    "        h,m=divmod(m,60)\n",
    "        d,h=divmod(h,24)\n",
    "        y,d=divmod(d,365)\n",
    "        \n",
    "        time=[y,d,h,m,s]     #string with the number of counts per time_order\n",
    "        duration=[] #we initialize a list where to add the number of the time_order and the relative word (with s in case of number >1)\n",
    "        \n",
    "        for x,i in enumerate(time): # x is the number created by enumerate, i is the object (it is important that the order in time is the same that words)\n",
    "            if i ==1:\n",
    "                duration.append(f\"{i} {words[x]}\")\n",
    "            elif i>1:\n",
    "                duration.append(f\"{i} {words[x]}s\")\n",
    "                \n",
    "                \n",
    "        if len(duration)==1:              #here we manage to create the output string, dividing for each of the macro-cases\n",
    "            return duration[0]\n",
    "        elif len(duration)==2:\n",
    "            return \" and \".join(duration)\n",
    "        else:\n",
    "            return \", \".join(duration[:-1]) +\" and \"+ duration[-1]\n",
    "        "
   ]
  },
  {
   "cell_type": "markdown",
   "id": "7a41af2b-9565-4c98-a9df-74c3495866b8",
   "metadata": {
    "tags": []
   },
   "source": [
    "## Sudoku Solution Valdator ##\n"
   ]
  },
  {
   "cell_type": "markdown",
   "id": "c3a376db-6e68-42fe-a9f4-72feed6f13d3",
   "metadata": {},
   "source": [
    "Write a function validSolution/ValidateSolution/valid_solution() that accepts a 2D array representing a Sudoku board, and returns true if it is a valid solution, or false otherwise. The cells of the sudoku board may also contain 0's, which will represent empty cells. Boards containing one or more zeroes are considered to be invalid solutions."
   ]
  },
  {
   "cell_type": "code",
   "execution_count": 3,
   "id": "b1cc899a-b4ce-421a-9dbc-be0de0861d55",
   "metadata": {},
   "outputs": [],
   "source": [
    "def rows_check(board):\n",
    "     for i in range(len(board)): #checking rows\n",
    "        if 0 in board[i]:\n",
    "            status=False\n",
    "            break\n",
    "        else:\n",
    "            if len(set(board[i])) == 9:\n",
    "                status= True\n",
    "            else:\n",
    "                status= False\n",
    "                break\n",
    "        return status\n",
    "def columns_check(board):\n",
    "    for i in range(len(board)): #checking columns\n",
    "        column_i=[]\n",
    "        for j in range(len(board)):\n",
    "            column_i.append(board[j][i])\n",
    "        if 0 in column_i:\n",
    "            status=False\n",
    "            break\n",
    "        else:\n",
    "            if len(set(column_i)) ==9:\n",
    "                status=True\n",
    "            else:\n",
    "                status=False\n",
    "                break\n",
    "    return status\n",
    "def box_check(board,n,m):\n",
    "    be=[]\n",
    "    for i in range(n,n+3):\n",
    "        for j in range(m,m+3):\n",
    "            be.append(board[i][j])\n",
    "    if len(set(be))==9:\n",
    "        status=True\n",
    "    else:\n",
    "        status=False\n",
    "    return status\n",
    "def validSolution(board):\n",
    "    if columns_check(board)==True and rows_check(board) == True:\n",
    "        for n in range(0,9,3):\n",
    "            for m in range(0,9,3):\n",
    "                box_check(board,n,m)\n",
    "                if box_check(board,n,m)==False:\n",
    "                    return False\n",
    "                    break\n",
    "                else:\n",
    "                    return True\n",
    "                \n",
    "    else:\n",
    "        return False"
   ]
  },
  {
   "cell_type": "markdown",
   "id": "74592417-11a4-4806-acc1-a033ccb48f50",
   "metadata": {
    "tags": []
   },
   "source": [
    "## Strip Comments ##"
   ]
  },
  {
   "cell_type": "markdown",
   "id": "b95566d7-c879-4ac6-bffa-fb9db29516ac",
   "metadata": {},
   "source": [
    "Complete the solution so that it strips all text that follows any of a set of comment markers passed in. Any whitespace at the end of the line should also be stripped out."
   ]
  },
  {
   "cell_type": "code",
   "execution_count": 4,
   "id": "4ae34aa3-b8ac-4afd-893f-1e6104d893fa",
   "metadata": {},
   "outputs": [],
   "source": [
    "def solution(string,markers):\n",
    "    parts=string.split(\"\\n\") #this takes the input string and creates a list. Every element is a line\n",
    "    for s in markers:           #splits the elements in the previous list, using every delimiter as splitter, and then strips at the end of the element\n",
    "        parts=[v.split(s)[0].rstrip() for v in parts] \n",
    "    return \"\\n\".join(parts)"
   ]
  }
 ],
 "metadata": {
  "kernelspec": {
   "display_name": "Python 3 (ipykernel)",
   "language": "python",
   "name": "python3"
  },
  "language_info": {
   "codemirror_mode": {
    "name": "ipython",
    "version": 3
   },
   "file_extension": ".py",
   "mimetype": "text/x-python",
   "name": "python",
   "nbconvert_exporter": "python",
   "pygments_lexer": "ipython3",
   "version": "3.9.7"
  }
 },
 "nbformat": 4,
 "nbformat_minor": 5
}
